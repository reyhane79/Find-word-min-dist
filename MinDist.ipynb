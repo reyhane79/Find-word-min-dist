{
 "cells": [
  {
   "cell_type": "raw",
   "metadata": {},
   "source": [
    "first we import the needed libraries:"
   ]
  },
  {
   "cell_type": "code",
   "execution_count": 1,
   "metadata": {},
   "outputs": [],
   "source": [
    "import pandas as pd\n",
    "import numpy as np"
   ]
  },
  {
   "cell_type": "raw",
   "metadata": {},
   "source": [
    "next we get the words as input:"
   ]
  },
  {
   "cell_type": "code",
   "execution_count": 2,
   "metadata": {},
   "outputs": [
    {
     "name": "stdout",
     "output_type": "stream",
     "text": [
      "enter first word:arash\n",
      "enter second word:arsh\n"
     ]
    }
   ],
   "source": [
    "w1 = input('enter first word:')\n",
    "w2 = input('enter second word:')"
   ]
  },
  {
   "cell_type": "raw",
   "metadata": {},
   "source": [
    "initial assignments to start the algorithm"
   ]
  },
  {
   "cell_type": "code",
   "execution_count": 3,
   "metadata": {},
   "outputs": [
    {
     "name": "stdout",
     "output_type": "stream",
     "text": [
      "[[0. 1. 2. 3. 4.]\n",
      " [1. 0. 0. 0. 0.]\n",
      " [2. 0. 0. 0. 0.]\n",
      " [3. 0. 0. 0. 0.]\n",
      " [4. 0. 0. 0. 0.]\n",
      " [5. 0. 0. 0. 0.]]\n"
     ]
    }
   ],
   "source": [
    "distArr=np.zeros((len(w1)+1,len(w2)+1))\n",
    "decisionMadeArr=np.zeros((len(w1)+1,len(w2)+1))\n",
    "delCost=1\n",
    "insCost=1\n",
    "potentialSubsCost=2\n",
    "messageList=[] \n",
    "for i in range(0,len(w1)+1):\n",
    "    distArr[i,0]=i\n",
    "for i in range(0,len(w2)+1):\n",
    "    distArr[0,i]=i\n",
    "print(distArr)"
   ]
  },
  {
   "cell_type": "raw",
   "metadata": {},
   "source": [
    "levenshtein algorithm implementation"
   ]
  },
  {
   "cell_type": "code",
   "execution_count": 6,
   "metadata": {},
   "outputs": [
    {
     "name": "stdout",
     "output_type": "stream",
     "text": [
      "[[0. 1. 2. 3. 4.]\n",
      " [1. 0. 1. 2. 3.]\n",
      " [2. 1. 0. 1. 2.]\n",
      " [3. 2. 1. 2. 3.]\n",
      " [4. 3. 2. 1. 2.]\n",
      " [5. 4. 3. 2. 1.]]\n"
     ]
    }
   ],
   "source": [
    "for i in range(1,len(w1)+1):\n",
    "    for j in range(1,len(w2)+1):\n",
    "        if w1[i-1] == w2[j-1]:\n",
    "            subsCost=0\n",
    "        else:\n",
    "            subsCost=potentialSubsCost\n",
    "        distArr[i,j]=min(distArr[i-1,j]+delCost,distArr[i,j-1]+insCost,distArr[i-1,j-1]+subsCost)\n",
    "print(distArr)"
   ]
  },
  {
   "cell_type": "raw",
   "metadata": {},
   "source": [
    "back trace to see the choosen path:"
   ]
  },
  {
   "cell_type": "code",
   "execution_count": 5,
   "metadata": {},
   "outputs": [
    {
     "name": "stdout",
     "output_type": "stream",
     "text": [
      "converting  arash  to  arsh\n",
      "made a substitution between a and a\n",
      "made a substitution between r and r\n",
      "deleted the a\n",
      "made a substitution between s and s\n",
      "made a substitution between h and h\n",
      "\n",
      " \n",
      " the path:\n",
      "[[1. 0. 0. 0. 0.]\n",
      " [0. 1. 0. 0. 0.]\n",
      " [0. 0. 1. 0. 0.]\n",
      " [0. 0. 1. 0. 0.]\n",
      " [0. 0. 0. 1. 0.]\n",
      " [0. 0. 0. 0. 1.]]\n"
     ]
    }
   ],
   "source": [
    "j=len(w2)\n",
    "i=len(w1)\n",
    "messageList=[];\n",
    "decisionMadeArr[len(w1),len(w2)]=1\n",
    "while i>0 or j>0:\n",
    "    if w1[i-1] == w2[j-1]:\n",
    "        subsCost=0\n",
    "    else:\n",
    "        subsCost=potentialSubsCost\n",
    "    if(distArr[i,j]==distArr[i-1,j-1]+subsCost):\n",
    "        decisionMadeArr[i-1,j-1]=1\n",
    "        messageList.append('made a substitution between '+w1[i-1]+' and '+w2[j-1])\n",
    "        i,j=i-1,j-1\n",
    "    elif distArr[i,j]==distArr[i-1,j]+delCost:\n",
    "        decisionMadeArr[i-1,j]=1\n",
    "        messageList.append('deleted the '+w1[i-1])\n",
    "        i=i-1\n",
    "        \n",
    "    elif distArr[i,j]==distArr[i,j-1]+delCost:\n",
    "        decisionMadeArr[i,j-1]=1\n",
    "        messageList.append('inserted the '+w2[j-1])\n",
    "        j=j-1\n",
    "print('converting ',w1,' to ',w2)\n",
    "for i in reversed(range(0,len(messageList))):\n",
    "    print(messageList[i])\n",
    "print('\\n','\\n','the path:')\n",
    "print(decisionMadeArr)"
   ]
  },
  {
   "cell_type": "code",
   "execution_count": null,
   "metadata": {},
   "outputs": [],
   "source": []
  }
 ],
 "metadata": {
  "kernelspec": {
   "display_name": "Python 3",
   "language": "python",
   "name": "python3"
  },
  "language_info": {
   "codemirror_mode": {
    "name": "ipython",
    "version": 3
   },
   "file_extension": ".py",
   "mimetype": "text/x-python",
   "name": "python",
   "nbconvert_exporter": "python",
   "pygments_lexer": "ipython3",
   "version": "3.7.6"
  }
 },
 "nbformat": 4,
 "nbformat_minor": 4
}
